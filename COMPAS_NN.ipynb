{
  "nbformat": 4,
  "nbformat_minor": 0,
  "metadata": {
    "colab": {
      "name": "COMPAS NN",
      "provenance": [],
      "collapsed_sections": []
    },
    "language_info": {
      "codemirror_mode": {
        "name": "ipython",
        "version": 3
      },
      "file_extension": ".py",
      "mimetype": "text/x-python",
      "name": "python",
      "nbconvert_exporter": "python",
      "pygments_lexer": "ipython3",
      "version": "3.5.2"
    },
    "kernelspec": {
      "display_name": "Python [default]",
      "language": "python",
      "name": "python3"
    }
  },
  "cells": [
    {
      "cell_type": "code",
      "metadata": {
        "id": "4j1O0r-ZhWhJ"
      },
      "source": [
        "from __future__ import print_function\n",
        "import tensorflow as tf\n",
        "import keras\n",
        "from keras.datasets import mnist\n",
        "from keras.models import Sequential\n",
        "from keras.layers import Dense, Dropout, Activation, BatchNormalization\n",
        "from keras import regularizers\n",
        "from keras import backend as K\n",
        "import numpy as np\n",
        "import pandas as pd\n",
        "import math\n",
        "import matplotlib.pyplot as plt\n",
        "import random\n",
        "import requests\n",
        "import zipfile\n",
        "import io\n",
        "\n",
        "# Fix random seed for reproducibility.\n",
        "np.random.seed(1337)"
      ],
      "execution_count": null,
      "outputs": []
    },
    {
      "cell_type": "markdown",
      "metadata": {
        "id": "J7KrUkjZhWhO"
      },
      "source": [
        "## Read and Clean in Data"
      ]
    },
    {
      "cell_type": "code",
      "metadata": {
        "id": "v7OGQX7jhWhP",
        "colab": {
          "base_uri": "https://localhost:8080/",
          "height": 319
        },
        "outputId": "007e0c86-1459-4dea-e34b-21ad986cb8a2"
      },
      "source": [
        "# Download and extract data.\n",
        "r = requests.get(\"http://web.stanford.edu/class/cs21si/resources/unit3_resources.zip\")\n",
        "z = zipfile.ZipFile(io.BytesIO(r.content))\n",
        "z.extractall()\n",
        "\n",
        "data = pd.read_csv(\"unit3_resources/compas-scores.csv\", header = 0)\n",
        "\n",
        "# Select fields we want.\n",
        "fields_of_interest = ['name', 'sex', 'age', 'race', 'priors_count', 'c_charge_desc', \n",
        "                      'v_decile_score', 'decile_score', 'is_violent_recid', 'is_recid']\n",
        "data = data[fields_of_interest]\n",
        "# More interpretable column names.\n",
        "data.columns = ['name', 'sex', 'age', 'race', 'num_priors', 'charge', \n",
        "                'violence_score', 'recidivism_score', 'violence_true', 'recidivism_true']\n",
        "\n",
        "# Remove records with missing scores.\n",
        "data = data.loc[(data.violence_score != -1) & (data.recidivism_score != -1)]\n",
        "data = data.loc[(data.violence_true != -1) & (data.recidivism_true != -1)]\n",
        "\n",
        "# Convert strings to numerical values.\n",
        "sex_classes = {'Male': 0, 'Female' : 1}\n",
        "\n",
        "processed_data = data.copy()\n",
        "processed_data['sex'] = data['sex'].apply(lambda x: sex_classes[x])\n",
        "\n",
        "# One-hot encode race.\n",
        "processed_data = pd.get_dummies(processed_data, columns = ['race'])\n",
        "columns = processed_data.columns.tolist()\n",
        "columns = columns[0:3] + columns[9:] + columns[3:9]\n",
        "processed_data = processed_data.reindex(columns = columns)\n",
        "\n",
        "processed_data.head()"
      ],
      "execution_count": null,
      "outputs": [
        {
          "output_type": "execute_result",
          "data": {
            "text/plain": [
              "                 name  sex  age  race_African-American  race_Asian  \\\n",
              "0    miguel hernandez    0   69                      0           0   \n",
              "2         kevon dixon    0   34                      1           0   \n",
              "3            ed philo    0   24                      1           0   \n",
              "4         marcu brown    0   23                      1           0   \n",
              "5  bouthy pierrelouis    0   43                      0           0   \n",
              "\n",
              "   race_Caucasian  race_Hispanic  race_Native American  race_Other  \\\n",
              "0               0              0                     0           1   \n",
              "2               0              0                     0           0   \n",
              "3               0              0                     0           0   \n",
              "4               0              0                     0           0   \n",
              "5               0              0                     0           1   \n",
              "\n",
              "   num_priors                          charge  violence_score  \\\n",
              "0           0    Aggravated Assault w/Firearm               1   \n",
              "2           0  Felony Battery w/Prior Convict               1   \n",
              "3           4           Possession of Cocaine               3   \n",
              "4           1          Possession of Cannabis               6   \n",
              "5           2           arrest case no charge               1   \n",
              "\n",
              "   recidivism_score  violence_true  recidivism_true  \n",
              "0                 1              0                0  \n",
              "2                 3              1                1  \n",
              "3                 4              0                1  \n",
              "4                 8              0                0  \n",
              "5                 1              0                0  "
            ],
            "text/html": [
              "\n",
              "  <div id=\"df-d1fc3629-f3e2-46dc-b0a2-4f7e8e4fee02\">\n",
              "    <div class=\"colab-df-container\">\n",
              "      <div>\n",
              "<style scoped>\n",
              "    .dataframe tbody tr th:only-of-type {\n",
              "        vertical-align: middle;\n",
              "    }\n",
              "\n",
              "    .dataframe tbody tr th {\n",
              "        vertical-align: top;\n",
              "    }\n",
              "\n",
              "    .dataframe thead th {\n",
              "        text-align: right;\n",
              "    }\n",
              "</style>\n",
              "<table border=\"1\" class=\"dataframe\">\n",
              "  <thead>\n",
              "    <tr style=\"text-align: right;\">\n",
              "      <th></th>\n",
              "      <th>name</th>\n",
              "      <th>sex</th>\n",
              "      <th>age</th>\n",
              "      <th>race_African-American</th>\n",
              "      <th>race_Asian</th>\n",
              "      <th>race_Caucasian</th>\n",
              "      <th>race_Hispanic</th>\n",
              "      <th>race_Native American</th>\n",
              "      <th>race_Other</th>\n",
              "      <th>num_priors</th>\n",
              "      <th>charge</th>\n",
              "      <th>violence_score</th>\n",
              "      <th>recidivism_score</th>\n",
              "      <th>violence_true</th>\n",
              "      <th>recidivism_true</th>\n",
              "    </tr>\n",
              "  </thead>\n",
              "  <tbody>\n",
              "    <tr>\n",
              "      <th>0</th>\n",
              "      <td>miguel hernandez</td>\n",
              "      <td>0</td>\n",
              "      <td>69</td>\n",
              "      <td>0</td>\n",
              "      <td>0</td>\n",
              "      <td>0</td>\n",
              "      <td>0</td>\n",
              "      <td>0</td>\n",
              "      <td>1</td>\n",
              "      <td>0</td>\n",
              "      <td>Aggravated Assault w/Firearm</td>\n",
              "      <td>1</td>\n",
              "      <td>1</td>\n",
              "      <td>0</td>\n",
              "      <td>0</td>\n",
              "    </tr>\n",
              "    <tr>\n",
              "      <th>2</th>\n",
              "      <td>kevon dixon</td>\n",
              "      <td>0</td>\n",
              "      <td>34</td>\n",
              "      <td>1</td>\n",
              "      <td>0</td>\n",
              "      <td>0</td>\n",
              "      <td>0</td>\n",
              "      <td>0</td>\n",
              "      <td>0</td>\n",
              "      <td>0</td>\n",
              "      <td>Felony Battery w/Prior Convict</td>\n",
              "      <td>1</td>\n",
              "      <td>3</td>\n",
              "      <td>1</td>\n",
              "      <td>1</td>\n",
              "    </tr>\n",
              "    <tr>\n",
              "      <th>3</th>\n",
              "      <td>ed philo</td>\n",
              "      <td>0</td>\n",
              "      <td>24</td>\n",
              "      <td>1</td>\n",
              "      <td>0</td>\n",
              "      <td>0</td>\n",
              "      <td>0</td>\n",
              "      <td>0</td>\n",
              "      <td>0</td>\n",
              "      <td>4</td>\n",
              "      <td>Possession of Cocaine</td>\n",
              "      <td>3</td>\n",
              "      <td>4</td>\n",
              "      <td>0</td>\n",
              "      <td>1</td>\n",
              "    </tr>\n",
              "    <tr>\n",
              "      <th>4</th>\n",
              "      <td>marcu brown</td>\n",
              "      <td>0</td>\n",
              "      <td>23</td>\n",
              "      <td>1</td>\n",
              "      <td>0</td>\n",
              "      <td>0</td>\n",
              "      <td>0</td>\n",
              "      <td>0</td>\n",
              "      <td>0</td>\n",
              "      <td>1</td>\n",
              "      <td>Possession of Cannabis</td>\n",
              "      <td>6</td>\n",
              "      <td>8</td>\n",
              "      <td>0</td>\n",
              "      <td>0</td>\n",
              "    </tr>\n",
              "    <tr>\n",
              "      <th>5</th>\n",
              "      <td>bouthy pierrelouis</td>\n",
              "      <td>0</td>\n",
              "      <td>43</td>\n",
              "      <td>0</td>\n",
              "      <td>0</td>\n",
              "      <td>0</td>\n",
              "      <td>0</td>\n",
              "      <td>0</td>\n",
              "      <td>1</td>\n",
              "      <td>2</td>\n",
              "      <td>arrest case no charge</td>\n",
              "      <td>1</td>\n",
              "      <td>1</td>\n",
              "      <td>0</td>\n",
              "      <td>0</td>\n",
              "    </tr>\n",
              "  </tbody>\n",
              "</table>\n",
              "</div>\n",
              "      <button class=\"colab-df-convert\" onclick=\"convertToInteractive('df-d1fc3629-f3e2-46dc-b0a2-4f7e8e4fee02')\"\n",
              "              title=\"Convert this dataframe to an interactive table.\"\n",
              "              style=\"display:none;\">\n",
              "        \n",
              "  <svg xmlns=\"http://www.w3.org/2000/svg\" height=\"24px\"viewBox=\"0 0 24 24\"\n",
              "       width=\"24px\">\n",
              "    <path d=\"M0 0h24v24H0V0z\" fill=\"none\"/>\n",
              "    <path d=\"M18.56 5.44l.94 2.06.94-2.06 2.06-.94-2.06-.94-.94-2.06-.94 2.06-2.06.94zm-11 1L8.5 8.5l.94-2.06 2.06-.94-2.06-.94L8.5 2.5l-.94 2.06-2.06.94zm10 10l.94 2.06.94-2.06 2.06-.94-2.06-.94-.94-2.06-.94 2.06-2.06.94z\"/><path d=\"M17.41 7.96l-1.37-1.37c-.4-.4-.92-.59-1.43-.59-.52 0-1.04.2-1.43.59L10.3 9.45l-7.72 7.72c-.78.78-.78 2.05 0 2.83L4 21.41c.39.39.9.59 1.41.59.51 0 1.02-.2 1.41-.59l7.78-7.78 2.81-2.81c.8-.78.8-2.07 0-2.86zM5.41 20L4 18.59l7.72-7.72 1.47 1.35L5.41 20z\"/>\n",
              "  </svg>\n",
              "      </button>\n",
              "      \n",
              "  <style>\n",
              "    .colab-df-container {\n",
              "      display:flex;\n",
              "      flex-wrap:wrap;\n",
              "      gap: 12px;\n",
              "    }\n",
              "\n",
              "    .colab-df-convert {\n",
              "      background-color: #E8F0FE;\n",
              "      border: none;\n",
              "      border-radius: 50%;\n",
              "      cursor: pointer;\n",
              "      display: none;\n",
              "      fill: #1967D2;\n",
              "      height: 32px;\n",
              "      padding: 0 0 0 0;\n",
              "      width: 32px;\n",
              "    }\n",
              "\n",
              "    .colab-df-convert:hover {\n",
              "      background-color: #E2EBFA;\n",
              "      box-shadow: 0px 1px 2px rgba(60, 64, 67, 0.3), 0px 1px 3px 1px rgba(60, 64, 67, 0.15);\n",
              "      fill: #174EA6;\n",
              "    }\n",
              "\n",
              "    [theme=dark] .colab-df-convert {\n",
              "      background-color: #3B4455;\n",
              "      fill: #D2E3FC;\n",
              "    }\n",
              "\n",
              "    [theme=dark] .colab-df-convert:hover {\n",
              "      background-color: #434B5C;\n",
              "      box-shadow: 0px 1px 3px 1px rgba(0, 0, 0, 0.15);\n",
              "      filter: drop-shadow(0px 1px 2px rgba(0, 0, 0, 0.3));\n",
              "      fill: #FFFFFF;\n",
              "    }\n",
              "  </style>\n",
              "\n",
              "      <script>\n",
              "        const buttonEl =\n",
              "          document.querySelector('#df-d1fc3629-f3e2-46dc-b0a2-4f7e8e4fee02 button.colab-df-convert');\n",
              "        buttonEl.style.display =\n",
              "          google.colab.kernel.accessAllowed ? 'block' : 'none';\n",
              "\n",
              "        async function convertToInteractive(key) {\n",
              "          const element = document.querySelector('#df-d1fc3629-f3e2-46dc-b0a2-4f7e8e4fee02');\n",
              "          const dataTable =\n",
              "            await google.colab.kernel.invokeFunction('convertToInteractive',\n",
              "                                                     [key], {});\n",
              "          if (!dataTable) return;\n",
              "\n",
              "          const docLinkHtml = 'Like what you see? Visit the ' +\n",
              "            '<a target=\"_blank\" href=https://colab.research.google.com/notebooks/data_table.ipynb>data table notebook</a>'\n",
              "            + ' to learn more about interactive tables.';\n",
              "          element.innerHTML = '';\n",
              "          dataTable['output_type'] = 'display_data';\n",
              "          await google.colab.output.renderOutput(dataTable, element);\n",
              "          const docLink = document.createElement('div');\n",
              "          docLink.innerHTML = docLinkHtml;\n",
              "          element.appendChild(docLink);\n",
              "        }\n",
              "      </script>\n",
              "    </div>\n",
              "  </div>\n",
              "  "
            ]
          },
          "metadata": {},
          "execution_count": 3
        }
      ]
    },
    {
      "cell_type": "code",
      "metadata": {
        "id": "xJrhaF1wThxm"
      },
      "source": [
        "# Convert pandas dataframe to numpy array for easier processing.\n",
        "processed_data = processed_data.values"
      ],
      "execution_count": null,
      "outputs": []
    },
    {
      "cell_type": "markdown",
      "metadata": {
        "id": "996P_v06hWhR"
      },
      "source": [
        "## Partition into Train and Test Sets\n"
      ]
    },
    {
      "cell_type": "code",
      "metadata": {
        "id": "HvNKjloYhWhS",
        "colab": {
          "base_uri": "https://localhost:8080/"
        },
        "outputId": "13dea663-5f7b-4b06-e45f-e9e5174d1722"
      },
      "source": [
        "# split into input (X) and output (Y) variables\n",
        "X = processed_data[:,1:10].astype('float32') # sex, age, race, num_priors\n",
        "y = processed_data[:,14].astype('float32') # recidivism_true\n",
        "\n",
        "num_train = int(math.ceil(X.shape[0]*0.8))\n",
        "num_test = int(math.floor(X.shape[0]*0.2))\n",
        "\n",
        "X_train = X[:num_train]\n",
        "y_train = y[:num_train]\n",
        "\n",
        "X_test = X[num_train:]\n",
        "y_test = y[num_train:]\n",
        "\n",
        "num_classes = 2\n",
        "# convert class vectors to binary class matrices\n",
        "y_train = tf.keras.utils.to_categorical(y_train, num_classes)\n",
        "y_test = tf.keras.utils.to_categorical(y_test, num_classes)\n",
        "\n",
        "print(X_train.shape[0], 'records in train set')\n",
        "print(X_test.shape[0], 'records in test set')\n",
        "print(X.shape[0], 'records in total')"
      ],
      "execution_count": null,
      "outputs": [
        {
          "output_type": "stream",
          "name": "stdout",
          "text": [
            "8822 records in train set\n",
            "2205 records in test set\n",
            "11027 records in total\n"
          ]
        }
      ]
    },
    {
      "cell_type": "code",
      "metadata": {
        "colab": {
          "base_uri": "https://localhost:8080/"
        },
        "id": "KghiFWvpVLyM",
        "outputId": "9f2e64d4-004a-451d-ccf4-de875816e0c5"
      },
      "source": [
        "X_train.shape"
      ],
      "execution_count": null,
      "outputs": [
        {
          "output_type": "execute_result",
          "data": {
            "text/plain": [
              "(8822, 9)"
            ]
          },
          "metadata": {},
          "execution_count": 6
        }
      ]
    },
    {
      "cell_type": "markdown",
      "metadata": {
        "id": "TZIHnl6KhWhU"
      },
      "source": [
        "## Set up our Evaluation Pipeline\n"
      ]
    },
    {
      "cell_type": "code",
      "metadata": {
        "id": "FYVcQZB5hWhV"
      },
      "source": [
        "#########################################################\n",
        "# Trains and evaluates given model. Returns loss and \n",
        "# accuracy.\n",
        "#########################################################\n",
        "def eval(model, verb = 2):\n",
        "    # fit the model\n",
        "    model.fit(X_train, y_train, \n",
        "              epochs = 30, \n",
        "              batch_size = batch_size,          \n",
        "              validation_split = 0.1,\n",
        "              verbose = verb,\n",
        "              shuffle = False)\n",
        "    \n",
        "    # Evaluate the model.\n",
        "    scores = model.evaluate(X_test, y_test)\n",
        "    \n",
        "    return scores"
      ],
      "execution_count": null,
      "outputs": []
    },
    {
      "cell_type": "code",
      "metadata": {
        "id": "njnnNithhWhX",
        "colab": {
          "base_uri": "https://localhost:8080/"
        },
        "outputId": "c795f5d1-b780-4c16-ff90-07b8877ada1d"
      },
      "source": [
        "batch_size = 64\n",
        "num_classes = 2\n",
        "\n",
        "learning_rate = 2e-3\n",
        "reg_strength = 1e-4\n",
        "\n",
        "#########################################################\n",
        "# Initializes neural network with dropout.\n",
        "#########################################################\n",
        "def nn_classifier(learning_rate, reg_strength, dropout_strength=0.5):\n",
        "    # create model\n",
        "    model = Sequential()\n",
        "\n",
        "    model.add(Dropout(dropout_strength, input_shape = (X.shape[1],)))\n",
        "    model.add(Dense(50, activation = 'relu')) \n",
        "    model.add(BatchNormalization())\n",
        "    model.add(Dense(100, activation = 'relu')) \n",
        "    model.add(Dense(50, activation = 'relu')) \n",
        "    model.add(Dense(num_classes, activation = 'softmax'))\n",
        "    # Add a layer to model which has:\n",
        "    # Input size: 9; and output size: 1\n",
        "    # model.add(Dense(10, input_dim=9, activation = 'relu'))# kernel_regularizer=regularizers.l2(reg_strength)))\n",
        "    # model.add(Dense(num_classes, activation='softmax'))\n",
        "\n",
        "    # compile model\n",
        "    sgd = tf.keras.optimizers.SGD(lr = learning_rate)\n",
        "    model.compile(loss = keras.losses.categorical_crossentropy, \n",
        "                  optimizer = sgd, metrics=['accuracy'])\n",
        "    \n",
        "    return model\n",
        "\n",
        "# Evaluate your model\n",
        "for learning_rate in [1e-2]:\n",
        "  for reg_strength in [1e-4]:\n",
        "    print(\"Using learning rate %f and regularization strength %f...\" % (learning_rate, reg_strength))\n",
        "    model = nn_classifier(learning_rate, reg_strength)\n",
        "    loss, acc = eval(model, verb = 2)\n",
        "    print('\\n\\nTest loss:', loss)\n",
        "    print('Test accuracy:', acc)"
      ],
      "execution_count": null,
      "outputs": [
        {
          "output_type": "stream",
          "name": "stdout",
          "text": [
            "Using learning rate 0.010000 and regularization strength 0.000100...\n",
            "Epoch 1/30\n"
          ]
        },
        {
          "output_type": "stream",
          "name": "stderr",
          "text": [
            "/usr/local/lib/python3.7/dist-packages/keras/optimizer_v2/gradient_descent.py:102: UserWarning: The `lr` argument is deprecated, use `learning_rate` instead.\n",
            "  super(SGD, self).__init__(name, **kwargs)\n"
          ]
        },
        {
          "output_type": "stream",
          "name": "stdout",
          "text": [
            "125/125 - 1s - loss: 0.6361 - accuracy: 0.6555 - val_loss: 0.6309 - val_accuracy: 0.6954 - 1s/epoch - 10ms/step\n",
            "Epoch 2/30\n",
            "125/125 - 0s - loss: 0.6188 - accuracy: 0.6706 - val_loss: 0.6379 - val_accuracy: 0.6840 - 270ms/epoch - 2ms/step\n",
            "Epoch 3/30\n",
            "125/125 - 0s - loss: 0.6199 - accuracy: 0.6702 - val_loss: 0.6384 - val_accuracy: 0.6818 - 278ms/epoch - 2ms/step\n",
            "Epoch 4/30\n",
            "125/125 - 0s - loss: 0.6199 - accuracy: 0.6738 - val_loss: 0.6452 - val_accuracy: 0.6942 - 262ms/epoch - 2ms/step\n",
            "Epoch 5/30\n",
            "125/125 - 0s - loss: 0.6206 - accuracy: 0.6690 - val_loss: 0.6435 - val_accuracy: 0.6942 - 253ms/epoch - 2ms/step\n",
            "Epoch 6/30\n",
            "125/125 - 0s - loss: 0.6199 - accuracy: 0.6720 - val_loss: 0.6433 - val_accuracy: 0.6931 - 243ms/epoch - 2ms/step\n",
            "Epoch 7/30\n",
            "125/125 - 0s - loss: 0.6198 - accuracy: 0.6741 - val_loss: 0.6419 - val_accuracy: 0.6874 - 277ms/epoch - 2ms/step\n",
            "Epoch 8/30\n",
            "125/125 - 0s - loss: 0.6186 - accuracy: 0.6717 - val_loss: 0.6584 - val_accuracy: 0.6908 - 272ms/epoch - 2ms/step\n",
            "Epoch 9/30\n",
            "125/125 - 0s - loss: 0.6168 - accuracy: 0.6721 - val_loss: 0.6417 - val_accuracy: 0.6999 - 257ms/epoch - 2ms/step\n",
            "Epoch 10/30\n",
            "125/125 - 0s - loss: 0.6183 - accuracy: 0.6739 - val_loss: 0.6338 - val_accuracy: 0.7010 - 295ms/epoch - 2ms/step\n",
            "Epoch 11/30\n",
            "125/125 - 0s - loss: 0.6192 - accuracy: 0.6714 - val_loss: 0.6426 - val_accuracy: 0.6908 - 251ms/epoch - 2ms/step\n",
            "Epoch 12/30\n",
            "125/125 - 0s - loss: 0.6179 - accuracy: 0.6765 - val_loss: 0.6412 - val_accuracy: 0.6897 - 235ms/epoch - 2ms/step\n",
            "Epoch 13/30\n",
            "125/125 - 0s - loss: 0.6170 - accuracy: 0.6738 - val_loss: 0.6519 - val_accuracy: 0.6874 - 243ms/epoch - 2ms/step\n",
            "Epoch 14/30\n",
            "125/125 - 0s - loss: 0.6183 - accuracy: 0.6749 - val_loss: 0.6467 - val_accuracy: 0.6874 - 249ms/epoch - 2ms/step\n",
            "Epoch 15/30\n",
            "125/125 - 0s - loss: 0.6186 - accuracy: 0.6704 - val_loss: 0.6572 - val_accuracy: 0.6852 - 229ms/epoch - 2ms/step\n",
            "Epoch 16/30\n",
            "125/125 - 0s - loss: 0.6180 - accuracy: 0.6741 - val_loss: 0.6463 - val_accuracy: 0.6954 - 246ms/epoch - 2ms/step\n",
            "Epoch 17/30\n",
            "125/125 - 0s - loss: 0.6161 - accuracy: 0.6729 - val_loss: 0.6478 - val_accuracy: 0.6908 - 238ms/epoch - 2ms/step\n",
            "Epoch 18/30\n",
            "125/125 - 0s - loss: 0.6183 - accuracy: 0.6748 - val_loss: 0.6422 - val_accuracy: 0.6931 - 303ms/epoch - 2ms/step\n",
            "Epoch 19/30\n",
            "125/125 - 0s - loss: 0.6169 - accuracy: 0.6785 - val_loss: 0.6370 - val_accuracy: 0.6965 - 245ms/epoch - 2ms/step\n",
            "Epoch 20/30\n",
            "125/125 - 0s - loss: 0.6179 - accuracy: 0.6744 - val_loss: 0.6382 - val_accuracy: 0.6920 - 240ms/epoch - 2ms/step\n",
            "Epoch 21/30\n",
            "125/125 - 0s - loss: 0.6166 - accuracy: 0.6772 - val_loss: 0.6451 - val_accuracy: 0.6908 - 241ms/epoch - 2ms/step\n",
            "Epoch 22/30\n",
            "125/125 - 0s - loss: 0.6161 - accuracy: 0.6779 - val_loss: 0.6423 - val_accuracy: 0.6897 - 240ms/epoch - 2ms/step\n",
            "Epoch 23/30\n",
            "125/125 - 0s - loss: 0.6169 - accuracy: 0.6751 - val_loss: 0.6611 - val_accuracy: 0.6704 - 260ms/epoch - 2ms/step\n",
            "Epoch 24/30\n",
            "125/125 - 0s - loss: 0.6157 - accuracy: 0.6769 - val_loss: 0.6399 - val_accuracy: 0.6886 - 247ms/epoch - 2ms/step\n",
            "Epoch 25/30\n",
            "125/125 - 0s - loss: 0.6201 - accuracy: 0.6729 - val_loss: 0.6509 - val_accuracy: 0.6829 - 249ms/epoch - 2ms/step\n",
            "Epoch 26/30\n",
            "125/125 - 0s - loss: 0.6204 - accuracy: 0.6730 - val_loss: 0.6517 - val_accuracy: 0.6942 - 258ms/epoch - 2ms/step\n",
            "Epoch 27/30\n",
            "125/125 - 0s - loss: 0.6160 - accuracy: 0.6791 - val_loss: 0.6412 - val_accuracy: 0.6897 - 244ms/epoch - 2ms/step\n",
            "Epoch 28/30\n",
            "125/125 - 0s - loss: 0.6185 - accuracy: 0.6741 - val_loss: 0.6495 - val_accuracy: 0.6874 - 239ms/epoch - 2ms/step\n",
            "Epoch 29/30\n",
            "125/125 - 0s - loss: 0.6174 - accuracy: 0.6777 - val_loss: 0.6473 - val_accuracy: 0.6863 - 256ms/epoch - 2ms/step\n",
            "Epoch 30/30\n",
            "125/125 - 0s - loss: 0.6168 - accuracy: 0.6751 - val_loss: 0.6391 - val_accuracy: 0.6931 - 291ms/epoch - 2ms/step\n",
            "69/69 [==============================] - 0s 2ms/step - loss: 0.6416 - accuracy: 0.6766\n",
            "\n",
            "\n",
            "Test loss: 0.6415995359420776\n",
            "Test accuracy: 0.676643967628479\n"
          ]
        }
      ]
    },
    {
      "cell_type": "markdown",
      "metadata": {
        "id": "LUEKHCydhWha"
      },
      "source": [
        "## Part 2: Hyperparameter Tuning\n"
      ]
    },
    {
      "cell_type": "code",
      "metadata": {
        "id": "EEnwCgsZhWha",
        "colab": {
          "base_uri": "https://localhost:8080/"
        },
        "outputId": "14d9c32c-754b-4496-8573-6af5b28d697f"
      },
      "source": [
        "def tune_hyperparams():\n",
        "    best_model = (None, None, None)\n",
        "    running_best_accuracy = 0\n",
        "\n",
        "    # Play with these!\n",
        "    learning_rate = [1e-1, 2e-1, 3e-1 ]\n",
        "    reg_strength = [3e-4, 35e-5, 4e-4] \n",
        "    \n",
        "    for lr in learning_rate:\n",
        "        for reg in reg_strength:\n",
        "            model = nn_classifier(lr, reg)\n",
        "            model_loss, model_acc = eval(model, verb = 0)\n",
        "\n",
        "            print('\\n val_acc: {:f}, lr: {:f}, reg: {:f}\\n'.format(\n",
        "                    model_acc, lr, reg))\n",
        "\n",
        "            if model_acc > running_best_accuracy:\n",
        "                model_params = {\"lr\": lr, \"reg\": reg}\n",
        "                best_model = (model, model_acc, model_params)\n",
        "                running_best_accuracy = model_acc\n",
        "            \n",
        "    return best_model\n",
        "        \n",
        "best_model = tune_hyperparams()\n",
        "print(\"\\n\\nBest Model Performance: \", best_model[1])\n",
        "print(\"Hyperparameters of Best Model: \", best_model[2])"
      ],
      "execution_count": null,
      "outputs": [
        {
          "output_type": "stream",
          "name": "stderr",
          "text": [
            "/usr/local/lib/python3.7/dist-packages/keras/optimizer_v2/gradient_descent.py:102: UserWarning: The `lr` argument is deprecated, use `learning_rate` instead.\n",
            "  super(SGD, self).__init__(name, **kwargs)\n"
          ]
        },
        {
          "output_type": "stream",
          "name": "stdout",
          "text": [
            "69/69 [==============================] - 0s 2ms/step - loss: 0.6372 - accuracy: 0.6803\n",
            "\n",
            " val_acc: 0.680272, lr: 0.100000, reg: 0.000300\n",
            "\n",
            "69/69 [==============================] - 0s 2ms/step - loss: 0.6381 - accuracy: 0.6794\n",
            "\n",
            " val_acc: 0.679365, lr: 0.100000, reg: 0.000350\n",
            "\n",
            "69/69 [==============================] - 0s 1ms/step - loss: 0.6247 - accuracy: 0.6839\n",
            "\n",
            " val_acc: 0.683900, lr: 0.100000, reg: 0.000400\n",
            "\n",
            "69/69 [==============================] - 0s 2ms/step - loss: 0.6801 - accuracy: 0.5596\n",
            "\n",
            " val_acc: 0.559637, lr: 0.200000, reg: 0.000300\n",
            "\n",
            "69/69 [==============================] - 0s 2ms/step - loss: 0.6441 - accuracy: 0.6766\n",
            "\n",
            " val_acc: 0.676644, lr: 0.200000, reg: 0.000350\n",
            "\n",
            "69/69 [==============================] - 0s 1ms/step - loss: 0.6783 - accuracy: 0.5977\n",
            "\n",
            " val_acc: 0.597732, lr: 0.200000, reg: 0.000400\n",
            "\n",
            "69/69 [==============================] - 0s 2ms/step - loss: 0.6184 - accuracy: 0.6830\n",
            "\n",
            " val_acc: 0.682993, lr: 0.300000, reg: 0.000300\n",
            "\n",
            "69/69 [==============================] - 0s 2ms/step - loss: 0.6271 - accuracy: 0.6780\n",
            "\n",
            " val_acc: 0.678005, lr: 0.300000, reg: 0.000350\n",
            "\n",
            "69/69 [==============================] - 0s 2ms/step - loss: 0.6475 - accuracy: 0.6834\n",
            "\n",
            " val_acc: 0.683447, lr: 0.300000, reg: 0.000400\n",
            "\n",
            "\n",
            "\n",
            "Best Model Performance:  0.6839002370834351\n",
            "Hyperparameters of Best Model:  {'lr': 0.1, 'reg': 0.0004}\n"
          ]
        }
      ]
    },
    {
      "cell_type": "code",
      "metadata": {
        "id": "WTf7YYu0tNrv"
      },
      "source": [
        ""
      ],
      "execution_count": null,
      "outputs": []
    }
  ]
}